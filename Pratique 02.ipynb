{
 "cells": [
  {
   "cell_type": "markdown",
   "metadata": {},
   "source": [
    "# Módulo 10 tarefa 2\n",
    "\n",
    "Considere a mesma base de dados utilizada na tarefa 1 ```previsao_de_renda.csv```."
   ]
  },
  {
   "cell_type": "code",
   "execution_count": 32,
   "metadata": {},
   "outputs": [],
   "source": [
    "# importar bibliotecas\n",
    "import numpy as np\n",
    "import pandas as pd\n",
    "import matplotlib.pyplot as plt\n",
    "import seaborn as sns\n",
    "from scipy.stats import mannwhitneyu"
   ]
  },
  {
   "cell_type": "code",
   "execution_count": 7,
   "metadata": {},
   "outputs": [],
   "source": [
    "# carregar base num dataframe\n",
    "previsao_de_renda = pd.read_csv('previsao_de_renda.csv')"
   ]
  },
  {
   "cell_type": "code",
   "execution_count": 10,
   "metadata": {},
   "outputs": [
    {
     "data": {
      "text/html": [
       "<div>\n",
       "<style scoped>\n",
       "    .dataframe tbody tr th:only-of-type {\n",
       "        vertical-align: middle;\n",
       "    }\n",
       "\n",
       "    .dataframe tbody tr th {\n",
       "        vertical-align: top;\n",
       "    }\n",
       "\n",
       "    .dataframe thead th {\n",
       "        text-align: right;\n",
       "    }\n",
       "</style>\n",
       "<table border=\"1\" class=\"dataframe\">\n",
       "  <thead>\n",
       "    <tr style=\"text-align: right;\">\n",
       "      <th></th>\n",
       "      <th>Unnamed: 0</th>\n",
       "      <th>data_ref</th>\n",
       "      <th>index</th>\n",
       "      <th>sexo</th>\n",
       "      <th>posse_de_veiculo</th>\n",
       "      <th>posse_de_imovel</th>\n",
       "      <th>qtd_filhos</th>\n",
       "      <th>tipo_renda</th>\n",
       "      <th>educacao</th>\n",
       "      <th>estado_civil</th>\n",
       "      <th>tipo_residencia</th>\n",
       "      <th>idade</th>\n",
       "      <th>tempo_emprego</th>\n",
       "      <th>qt_pessoas_residencia</th>\n",
       "      <th>mau</th>\n",
       "      <th>renda</th>\n",
       "    </tr>\n",
       "  </thead>\n",
       "  <tbody>\n",
       "    <tr>\n",
       "      <th>0</th>\n",
       "      <td>0</td>\n",
       "      <td>2015-01-01</td>\n",
       "      <td>8682</td>\n",
       "      <td>F</td>\n",
       "      <td>False</td>\n",
       "      <td>True</td>\n",
       "      <td>1</td>\n",
       "      <td>Assalariado</td>\n",
       "      <td>Secundário</td>\n",
       "      <td>Casado</td>\n",
       "      <td>Casa</td>\n",
       "      <td>36</td>\n",
       "      <td>3.575342</td>\n",
       "      <td>3.0</td>\n",
       "      <td>False</td>\n",
       "      <td>3369.24</td>\n",
       "    </tr>\n",
       "    <tr>\n",
       "      <th>1</th>\n",
       "      <td>1</td>\n",
       "      <td>2015-01-01</td>\n",
       "      <td>12830</td>\n",
       "      <td>M</td>\n",
       "      <td>True</td>\n",
       "      <td>True</td>\n",
       "      <td>0</td>\n",
       "      <td>Empresário</td>\n",
       "      <td>Secundário</td>\n",
       "      <td>Casado</td>\n",
       "      <td>Casa</td>\n",
       "      <td>42</td>\n",
       "      <td>0.860274</td>\n",
       "      <td>2.0</td>\n",
       "      <td>False</td>\n",
       "      <td>6096.14</td>\n",
       "    </tr>\n",
       "    <tr>\n",
       "      <th>2</th>\n",
       "      <td>2</td>\n",
       "      <td>2015-01-01</td>\n",
       "      <td>2885</td>\n",
       "      <td>M</td>\n",
       "      <td>True</td>\n",
       "      <td>True</td>\n",
       "      <td>2</td>\n",
       "      <td>Assalariado</td>\n",
       "      <td>Superior completo</td>\n",
       "      <td>Casado</td>\n",
       "      <td>Casa</td>\n",
       "      <td>31</td>\n",
       "      <td>8.065753</td>\n",
       "      <td>4.0</td>\n",
       "      <td>False</td>\n",
       "      <td>5658.98</td>\n",
       "    </tr>\n",
       "    <tr>\n",
       "      <th>3</th>\n",
       "      <td>3</td>\n",
       "      <td>2015-01-01</td>\n",
       "      <td>16168</td>\n",
       "      <td>F</td>\n",
       "      <td>True</td>\n",
       "      <td>False</td>\n",
       "      <td>0</td>\n",
       "      <td>Empresário</td>\n",
       "      <td>Secundário</td>\n",
       "      <td>Casado</td>\n",
       "      <td>Casa</td>\n",
       "      <td>50</td>\n",
       "      <td>1.208219</td>\n",
       "      <td>2.0</td>\n",
       "      <td>False</td>\n",
       "      <td>7246.69</td>\n",
       "    </tr>\n",
       "    <tr>\n",
       "      <th>4</th>\n",
       "      <td>4</td>\n",
       "      <td>2015-01-01</td>\n",
       "      <td>12438</td>\n",
       "      <td>M</td>\n",
       "      <td>False</td>\n",
       "      <td>False</td>\n",
       "      <td>0</td>\n",
       "      <td>Assalariado</td>\n",
       "      <td>Secundário</td>\n",
       "      <td>Casado</td>\n",
       "      <td>Casa</td>\n",
       "      <td>52</td>\n",
       "      <td>13.873973</td>\n",
       "      <td>2.0</td>\n",
       "      <td>False</td>\n",
       "      <td>4017.37</td>\n",
       "    </tr>\n",
       "  </tbody>\n",
       "</table>\n",
       "</div>"
      ],
      "text/plain": [
       "   Unnamed: 0    data_ref  index sexo  posse_de_veiculo  posse_de_imovel  \\\n",
       "0           0  2015-01-01   8682    F             False             True   \n",
       "1           1  2015-01-01  12830    M              True             True   \n",
       "2           2  2015-01-01   2885    M              True             True   \n",
       "3           3  2015-01-01  16168    F              True            False   \n",
       "4           4  2015-01-01  12438    M             False            False   \n",
       "\n",
       "   qtd_filhos   tipo_renda           educacao estado_civil tipo_residencia  \\\n",
       "0           1  Assalariado         Secundário       Casado            Casa   \n",
       "1           0   Empresário         Secundário       Casado            Casa   \n",
       "2           2  Assalariado  Superior completo       Casado            Casa   \n",
       "3           0   Empresário         Secundário       Casado            Casa   \n",
       "4           0  Assalariado         Secundário       Casado            Casa   \n",
       "\n",
       "   idade  tempo_emprego  qt_pessoas_residencia    mau    renda  \n",
       "0     36       3.575342                    3.0  False  3369.24  \n",
       "1     42       0.860274                    2.0  False  6096.14  \n",
       "2     31       8.065753                    4.0  False  5658.98  \n",
       "3     50       1.208219                    2.0  False  7246.69  \n",
       "4     52      13.873973                    2.0  False  4017.37  "
      ]
     },
     "execution_count": 10,
     "metadata": {},
     "output_type": "execute_result"
    }
   ],
   "source": [
    "previsao_de_renda.head(n = 5)"
   ]
  },
  {
   "cell_type": "code",
   "execution_count": 12,
   "metadata": {},
   "outputs": [
    {
     "name": "stdout",
     "output_type": "stream",
     "text": [
      "<class 'pandas.core.frame.DataFrame'>\n",
      "RangeIndex: 15000 entries, 0 to 14999\n",
      "Data columns (total 16 columns):\n",
      " #   Column                 Non-Null Count  Dtype  \n",
      "---  ------                 --------------  -----  \n",
      " 0   Unnamed: 0             15000 non-null  int64  \n",
      " 1   data_ref               15000 non-null  object \n",
      " 2   index                  15000 non-null  int64  \n",
      " 3   sexo                   15000 non-null  object \n",
      " 4   posse_de_veiculo       15000 non-null  bool   \n",
      " 5   posse_de_imovel        15000 non-null  bool   \n",
      " 6   qtd_filhos             15000 non-null  int64  \n",
      " 7   tipo_renda             15000 non-null  object \n",
      " 8   educacao               15000 non-null  object \n",
      " 9   estado_civil           15000 non-null  object \n",
      " 10  tipo_residencia        15000 non-null  object \n",
      " 11  idade                  15000 non-null  int64  \n",
      " 12  tempo_emprego          12466 non-null  float64\n",
      " 13  qt_pessoas_residencia  15000 non-null  float64\n",
      " 14  mau                    15000 non-null  bool   \n",
      " 15  renda                  15000 non-null  float64\n",
      "dtypes: bool(3), float64(3), int64(4), object(6)\n",
      "memory usage: 1.5+ MB\n"
     ]
    }
   ],
   "source": [
    "previsao_de_renda.info()"
   ]
  },
  {
   "cell_type": "markdown",
   "metadata": {},
   "source": [
    "1) Com o que você viu em aula, faça uma análise das variáveis qualitativas (posse de imóvel e posse de veículo) para verificar se são boas preditoras de *renda*. Alguma delas parece discriminar *renda* de forma estatisticamente significante?"
   ]
  },
  {
   "cell_type": "markdown",
   "metadata": {},
   "source": [
    "#### Qual o valor da correlação das variáveis posse_de_imovel e posse_de_veiculo com a variável renda? Este cálculo é o mais correto?"
   ]
  },
  {
   "cell_type": "code",
   "execution_count": 14,
   "metadata": {},
   "outputs": [],
   "source": [
    "previsao_de_renda_quali = previsao_de_renda[['posse_de_veiculo', 'posse_de_imovel', 'renda']]"
   ]
  },
  {
   "cell_type": "code",
   "execution_count": 16,
   "metadata": {},
   "outputs": [
    {
     "data": {
      "text/html": [
       "<div>\n",
       "<style scoped>\n",
       "    .dataframe tbody tr th:only-of-type {\n",
       "        vertical-align: middle;\n",
       "    }\n",
       "\n",
       "    .dataframe tbody tr th {\n",
       "        vertical-align: top;\n",
       "    }\n",
       "\n",
       "    .dataframe thead th {\n",
       "        text-align: right;\n",
       "    }\n",
       "</style>\n",
       "<table border=\"1\" class=\"dataframe\">\n",
       "  <thead>\n",
       "    <tr style=\"text-align: right;\">\n",
       "      <th></th>\n",
       "      <th>posse_de_veiculo</th>\n",
       "      <th>posse_de_imovel</th>\n",
       "      <th>renda</th>\n",
       "    </tr>\n",
       "  </thead>\n",
       "  <tbody>\n",
       "    <tr>\n",
       "      <th>posse_de_veiculo</th>\n",
       "      <td>1.000000</td>\n",
       "      <td>-0.014727</td>\n",
       "      <td>0.063414</td>\n",
       "    </tr>\n",
       "    <tr>\n",
       "      <th>posse_de_imovel</th>\n",
       "      <td>-0.014727</td>\n",
       "      <td>1.000000</td>\n",
       "      <td>0.029827</td>\n",
       "    </tr>\n",
       "    <tr>\n",
       "      <th>renda</th>\n",
       "      <td>0.063414</td>\n",
       "      <td>0.029827</td>\n",
       "      <td>1.000000</td>\n",
       "    </tr>\n",
       "  </tbody>\n",
       "</table>\n",
       "</div>"
      ],
      "text/plain": [
       "                  posse_de_veiculo  posse_de_imovel     renda\n",
       "posse_de_veiculo          1.000000        -0.014727  0.063414\n",
       "posse_de_imovel          -0.014727         1.000000  0.029827\n",
       "renda                     0.063414         0.029827  1.000000"
      ]
     },
     "execution_count": 16,
     "metadata": {},
     "output_type": "execute_result"
    }
   ],
   "source": [
    "# matriz de correlação\n",
    "previsao_de_renda_quali.corr()"
   ]
  },
  {
   "cell_type": "code",
   "execution_count": 18,
   "metadata": {},
   "outputs": [],
   "source": [
    "# cálculo da renda média por tipo de variável - veiculo e imóvel\n",
    "renda_media_sem_veiculo = previsao_de_renda_quali[previsao_de_renda_quali['posse_de_veiculo'] == False]['renda'].mean()\n",
    "renda_media_com_veiculo = previsao_de_renda_quali[previsao_de_renda_quali['posse_de_veiculo'] == True]['renda'].mean()\n",
    "renda_media_sem_imovel = previsao_de_renda_quali[previsao_de_renda_quali['posse_de_imovel'] == False]['renda'].mean()\n",
    "renda_media_com_imovel = previsao_de_renda_quali[previsao_de_renda_quali['posse_de_imovel'] == True]['renda'].mean()\n",
    "renda_media_com_veiculo_e_imovel = previsao_de_renda_quali[(previsao_de_renda_quali['posse_de_imovel'] == True) & (previsao_de_renda_quali['posse_de_veiculo'] == True)]['renda'].mean()\n",
    "renda_media_sem_veiculo_e_imovel = previsao_de_renda_quali[(previsao_de_renda_quali['posse_de_imovel'] == False) & (previsao_de_renda_quali['posse_de_veiculo'] == False)]['renda'].mean()"
   ]
  },
  {
   "cell_type": "code",
   "execution_count": 20,
   "metadata": {},
   "outputs": [
    {
     "name": "stdout",
     "output_type": "stream",
     "text": [
      "renda média das pessoas que não possuem veículo:  4390.506963019527\n",
      "renda média das pessoas que possuem veículo:  4992.579609120521\n",
      "renda média das pessoas que não possuem imóvel:  4426.970481903212\n",
      "renda média das pessoas que possuem imóvel:  4721.052703828605\n",
      "renda média das pessoas que possuem veículo e imóvel:  5057.2006149870795\n",
      "renda média das pessoas que não possuem veículo e imóvel:  4135.868138747885\n"
     ]
    }
   ],
   "source": [
    "# visualização dos resultados\n",
    "print(\"renda média das pessoas que não possuem veículo: \", renda_media_sem_veiculo)\n",
    "print(\"renda média das pessoas que possuem veículo: \", renda_media_com_veiculo)\n",
    "print(\"renda média das pessoas que não possuem imóvel: \", renda_media_sem_imovel)\n",
    "print(\"renda média das pessoas que possuem imóvel: \", renda_media_com_imovel)\n",
    "print(\"renda média das pessoas que possuem veículo e imóvel: \", renda_media_com_veiculo_e_imovel)\n",
    "print(\"renda média das pessoas que não possuem veículo e imóvel: \", renda_media_sem_veiculo_e_imovel)"
   ]
  },
  {
   "cell_type": "markdown",
   "metadata": {},
   "source": [
    "#### Os dados de renda seguem uma distribuição normal?"
   ]
  },
  {
   "cell_type": "code",
   "execution_count": 22,
   "metadata": {},
   "outputs": [
    {
     "data": {
      "image/png": "[encoded data removed]",
      "text/plain": [
       "<Figure size 640x480 with 1 Axes>"
      ]
     },
     "metadata": {},
     "output_type": "display_data"
    }
   ],
   "source": [
    "# histograma\n",
    "plt.hist(previsao_de_renda_quali['renda'], bins = 30, color = 'skyblue', edgecolor = 'black')\n",
    "plt.xlabel('Renda')\n",
    "plt.ylabel('Frequência')\n",
    "plt.show()"
   ]
  },
  {
   "cell_type": "markdown",
   "metadata": {},
   "source": [
    "#### Os dados não seguem uma distribuição normal - assimetria positiva. Qual o melhor teste para validar se os cálculos acima são estatisticamente significativos?"
   ]
  },
  {
   "cell_type": "markdown",
   "metadata": {},
   "source": [
    "##### Neste caso, podemos aplicar o Teste de Mann Whitney U"
   ]
  },
  {
   "cell_type": "code",
   "execution_count": 34,
   "metadata": {},
   "outputs": [],
   "source": [
    "# separar o dataframe em dois: possuem e não possuem veiculos\n",
    "renda_veiculo = previsao_de_renda_quali[previsao_de_renda_quali['posse_de_veiculo'] == True]['renda']\n",
    "renda_sem_veiculo = previsao_de_renda_quali[previsao_de_renda_quali['posse_de_veiculo'] == False]['renda']"
   ]
  },
  {
   "cell_type": "code",
   "execution_count": 36,
   "metadata": {},
   "outputs": [],
   "source": [
    "# cálculo da estatística e do p-value\n",
    "stat, p_val = mannwhitneyu(renda_veiculo, renda_sem_veiculo, alternative = 'two-sided')"
   ]
  },
  {
   "cell_type": "code",
   "execution_count": 40,
   "metadata": {},
   "outputs": [
    {
     "name": "stdout",
     "output_type": "stream",
     "text": [
      "Mann-Whitney U - Veiculo: estatistica =  29586616.5000, p-valor =  0.0000\n"
     ]
    }
   ],
   "source": [
    "print(f\"Mann-Whitney U - Veiculo: estatistica = {stat: .4f}, p-valor = {p_val: .4f}\")"
   ]
  },
  {
   "cell_type": "code",
   "execution_count": 49,
   "metadata": {},
   "outputs": [],
   "source": [
    "# separar o dataframe em dois: possuem e não possuem imóveis\n",
    "renda_imovel = previsao_de_renda_quali[previsao_de_renda_quali['posse_de_imovel'] == True]['renda']\n",
    "renda_sem_imovel = previsao_de_renda_quali[previsao_de_renda_quali['posse_de_imovel'] == False]['renda']"
   ]
  },
  {
   "cell_type": "code",
   "execution_count": 51,
   "metadata": {},
   "outputs": [],
   "source": [
    "# cálculo da estatística e do p-value\n",
    "stat, p_val = mannwhitneyu(renda_imovel, renda_sem_imovel, alternative = 'two-sided')"
   ]
  },
  {
   "cell_type": "code",
   "execution_count": 53,
   "metadata": {},
   "outputs": [
    {
     "name": "stdout",
     "output_type": "stream",
     "text": [
      "Mann-Whitney U - Imóvel: estatistica =  26129968.0000, p-valor =  0.0000\n"
     ]
    }
   ],
   "source": [
    "print(f\"Mann-Whitney U - Imóvel: estatistica = {stat: .4f}, p-valor = {p_val: .4f}\")"
   ]
  },
  {
   "cell_type": "code",
   "execution_count": 59,
   "metadata": {},
   "outputs": [],
   "source": [
    "# separar o dataframe em dois: possuem ambos os bens e não possuem nenhum dos bens\n",
    "renda_ambos_bens = previsao_de_renda_quali[(previsao_de_renda_quali['posse_de_veiculo'] == True) & (previsao_de_renda_quali['posse_de_imovel'] == True)]['renda']\n",
    "renda_sem_ambos_bens = previsao_de_renda_quali[(previsao_de_renda_quali['posse_de_veiculo'] == False) & (previsao_de_renda_quali['posse_de_imovel'] == False)]['renda']"
   ]
  },
  {
   "cell_type": "code",
   "execution_count": 61,
   "metadata": {},
   "outputs": [],
   "source": [
    "# cálculo da estatística e do p-value\n",
    "stat, p_val = mannwhitneyu(renda_ambos_bens, renda_sem_ambos_bens, alternative = 'two-sided')"
   ]
  },
  {
   "cell_type": "code",
   "execution_count": 63,
   "metadata": {},
   "outputs": [
    {
     "name": "stdout",
     "output_type": "stream",
     "text": [
      "Mann-Whitney U - Ambos bens: estatistica =  6658568.0000, p-valor =  0.0000\n"
     ]
    }
   ],
   "source": [
    "print(f\"Mann-Whitney U - Ambos bens: estatistica = {stat: .4f}, p-valor = {p_val: .4f}\")"
   ]
  },
  {
   "cell_type": "markdown",
   "metadata": {},
   "source": [
    "## O cálculo 'puro' da correlação, para este exemplo, não é útil. Observa-se, pela matriz de correlação, que não há correlação entre as variáveis objeto do estudo. O grande problema deste cálculo é que as variáveis posse_de_veiculo e posse_de_imovel assumem valores booleanos. A correlação de Pearson é muito útil para relacões lineares, o que pode não ser o caso das relações entre as variáveis citadas acima.\n",
    "\n",
    "## Dito isso, fizemos o cálculo da renda média da população (utilizando todos os dados da base) em seis diferentes cenários:\n",
    "    # clientes que não possuem veículo(s)\n",
    "    # clientes que possuem veículo(s)\n",
    "    # clientes que não possuem imóvel(is)\n",
    "    # clientes que possuem imóvel(is)\n",
    "    # clientes que não possuem nem veículo(s) e nem imóvel(is)\n",
    "    # clientes que possuem veículo(s) e imóvel(is)\n",
    "\n",
    "## Observamos que há uma diferença entre as rendas médias dos grupos que possuem algum bem (ou ambos) comparado com os grupos que não possuem um dos bens (ou ambos). Pelo histograma, observamos que os dados de renda não seguem uma distribuição normal (assimétrica positiva). Neste caso, para avaliar a significancia estatística dos resultados, aplicamos o Teste de Mann Whitney U. Como observado, o valor p é menor que 0.05. Neste caso, há uma diferença entre os grupos que não ocorre pelo acaso."
   ]
  }
 ],
 "metadata": {
  "kernelspec": {
   "display_name": "Python 3 (ipykernel)",
   "language": "python",
   "name": "python3"
  },
  "language_info": {
   "codemirror_mode": {
    "name": "ipython",
    "version": 3
   },
   "file_extension": ".py",
   "mimetype": "text/x-python",
   "name": "python",
   "nbconvert_exporter": "python",
   "pygments_lexer": "ipython3",
   "version": "3.12.4"
  }
 },
 "nbformat": 4,
 "nbformat_minor": 4
}
